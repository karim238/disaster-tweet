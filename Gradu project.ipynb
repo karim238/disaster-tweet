{
 "cells": [
  {
   "cell_type": "code",
   "execution_count": 1,
   "id": "e5111f82",
   "metadata": {},
   "outputs": [],
   "source": [
    "import pandas as pd\n",
    "import matplotlib.pyplot as plt\n",
    "import seaborn as sns\n",
    "import numpy as np"
   ]
  },
  {
   "cell_type": "code",
   "execution_count": 2,
   "id": "593da6a9",
   "metadata": {},
   "outputs": [],
   "source": [
    "twiter_data=pd.read_csv(r'C:\\\\Users\\HP\\Desktop\\predictiong disaster tweet\\train.csv')"
   ]
  },
  {
   "cell_type": "code",
   "execution_count": 3,
   "id": "ed78e5a0",
   "metadata": {},
   "outputs": [
    {
     "data": {
      "text/html": [
       "<div>\n",
       "<style scoped>\n",
       "    .dataframe tbody tr th:only-of-type {\n",
       "        vertical-align: middle;\n",
       "    }\n",
       "\n",
       "    .dataframe tbody tr th {\n",
       "        vertical-align: top;\n",
       "    }\n",
       "\n",
       "    .dataframe thead th {\n",
       "        text-align: right;\n",
       "    }\n",
       "</style>\n",
       "<table border=\"1\" class=\"dataframe\">\n",
       "  <thead>\n",
       "    <tr style=\"text-align: right;\">\n",
       "      <th></th>\n",
       "      <th>id</th>\n",
       "      <th>keyword</th>\n",
       "      <th>location</th>\n",
       "      <th>text</th>\n",
       "      <th>target</th>\n",
       "    </tr>\n",
       "  </thead>\n",
       "  <tbody>\n",
       "    <tr>\n",
       "      <th>0</th>\n",
       "      <td>1</td>\n",
       "      <td>NaN</td>\n",
       "      <td>NaN</td>\n",
       "      <td>Our Deeds are the Reason of this #earthquake M...</td>\n",
       "      <td>1</td>\n",
       "    </tr>\n",
       "    <tr>\n",
       "      <th>1</th>\n",
       "      <td>4</td>\n",
       "      <td>NaN</td>\n",
       "      <td>NaN</td>\n",
       "      <td>Forest fire near La Ronge Sask. Canada</td>\n",
       "      <td>1</td>\n",
       "    </tr>\n",
       "    <tr>\n",
       "      <th>2</th>\n",
       "      <td>5</td>\n",
       "      <td>NaN</td>\n",
       "      <td>NaN</td>\n",
       "      <td>All residents asked to 'shelter in place' are ...</td>\n",
       "      <td>1</td>\n",
       "    </tr>\n",
       "    <tr>\n",
       "      <th>3</th>\n",
       "      <td>6</td>\n",
       "      <td>NaN</td>\n",
       "      <td>NaN</td>\n",
       "      <td>13,000 people receive #wildfires evacuation or...</td>\n",
       "      <td>1</td>\n",
       "    </tr>\n",
       "    <tr>\n",
       "      <th>4</th>\n",
       "      <td>7</td>\n",
       "      <td>NaN</td>\n",
       "      <td>NaN</td>\n",
       "      <td>Just got sent this photo from Ruby #Alaska as ...</td>\n",
       "      <td>1</td>\n",
       "    </tr>\n",
       "    <tr>\n",
       "      <th>5</th>\n",
       "      <td>8</td>\n",
       "      <td>NaN</td>\n",
       "      <td>NaN</td>\n",
       "      <td>#RockyFire Update =&gt; California Hwy. 20 closed...</td>\n",
       "      <td>1</td>\n",
       "    </tr>\n",
       "    <tr>\n",
       "      <th>6</th>\n",
       "      <td>10</td>\n",
       "      <td>NaN</td>\n",
       "      <td>NaN</td>\n",
       "      <td>#flood #disaster Heavy rain causes flash flood...</td>\n",
       "      <td>1</td>\n",
       "    </tr>\n",
       "    <tr>\n",
       "      <th>7</th>\n",
       "      <td>13</td>\n",
       "      <td>NaN</td>\n",
       "      <td>NaN</td>\n",
       "      <td>I'm on top of the hill and I can see a fire in...</td>\n",
       "      <td>1</td>\n",
       "    </tr>\n",
       "    <tr>\n",
       "      <th>8</th>\n",
       "      <td>14</td>\n",
       "      <td>NaN</td>\n",
       "      <td>NaN</td>\n",
       "      <td>There's an emergency evacuation happening now ...</td>\n",
       "      <td>1</td>\n",
       "    </tr>\n",
       "    <tr>\n",
       "      <th>9</th>\n",
       "      <td>15</td>\n",
       "      <td>NaN</td>\n",
       "      <td>NaN</td>\n",
       "      <td>I'm afraid that the tornado is coming to our a...</td>\n",
       "      <td>1</td>\n",
       "    </tr>\n",
       "  </tbody>\n",
       "</table>\n",
       "</div>"
      ],
      "text/plain": [
       "   id keyword location                                               text  \\\n",
       "0   1     NaN      NaN  Our Deeds are the Reason of this #earthquake M...   \n",
       "1   4     NaN      NaN             Forest fire near La Ronge Sask. Canada   \n",
       "2   5     NaN      NaN  All residents asked to 'shelter in place' are ...   \n",
       "3   6     NaN      NaN  13,000 people receive #wildfires evacuation or...   \n",
       "4   7     NaN      NaN  Just got sent this photo from Ruby #Alaska as ...   \n",
       "5   8     NaN      NaN  #RockyFire Update => California Hwy. 20 closed...   \n",
       "6  10     NaN      NaN  #flood #disaster Heavy rain causes flash flood...   \n",
       "7  13     NaN      NaN  I'm on top of the hill and I can see a fire in...   \n",
       "8  14     NaN      NaN  There's an emergency evacuation happening now ...   \n",
       "9  15     NaN      NaN  I'm afraid that the tornado is coming to our a...   \n",
       "\n",
       "   target  \n",
       "0       1  \n",
       "1       1  \n",
       "2       1  \n",
       "3       1  \n",
       "4       1  \n",
       "5       1  \n",
       "6       1  \n",
       "7       1  \n",
       "8       1  \n",
       "9       1  "
      ]
     },
     "execution_count": 3,
     "metadata": {},
     "output_type": "execute_result"
    }
   ],
   "source": [
    "twiter_data.head(10)"
   ]
  },
  {
   "cell_type": "code",
   "execution_count": 4,
   "id": "d2ab27c9",
   "metadata": {},
   "outputs": [
    {
     "data": {
      "text/plain": [
       "Index(['id', 'keyword', 'location', 'text', 'target'], dtype='object')"
      ]
     },
     "execution_count": 4,
     "metadata": {},
     "output_type": "execute_result"
    }
   ],
   "source": [
    "twiter_data.columns"
   ]
  },
  {
   "cell_type": "code",
   "execution_count": 5,
   "id": "2fa6806d",
   "metadata": {},
   "outputs": [
    {
     "data": {
      "text/plain": [
       "id           0.000000\n",
       "keyword      0.801261\n",
       "location    33.272035\n",
       "text         0.000000\n",
       "target       0.000000\n",
       "dtype: float64"
      ]
     },
     "execution_count": 5,
     "metadata": {},
     "output_type": "execute_result"
    }
   ],
   "source": [
    "twiter_data.isnull().sum()/len(twiter_data)*100"
   ]
  },
  {
   "cell_type": "markdown",
   "id": "e540f1ae",
   "metadata": {},
   "source": [
    "#Data info"
   ]
  },
  {
   "cell_type": "code",
   "execution_count": 6,
   "id": "1d1a667d",
   "metadata": {},
   "outputs": [
    {
     "name": "stdout",
     "output_type": "stream",
     "text": [
      "<class 'pandas.core.frame.DataFrame'>\n",
      "RangeIndex: 7613 entries, 0 to 7612\n",
      "Data columns (total 5 columns):\n",
      " #   Column    Non-Null Count  Dtype \n",
      "---  ------    --------------  ----- \n",
      " 0   id        7613 non-null   int64 \n",
      " 1   keyword   7552 non-null   object\n",
      " 2   location  5080 non-null   object\n",
      " 3   text      7613 non-null   object\n",
      " 4   target    7613 non-null   int64 \n",
      "dtypes: int64(2), object(3)\n",
      "memory usage: 297.5+ KB\n"
     ]
    }
   ],
   "source": [
    "twiter_data.info()"
   ]
  },
  {
   "cell_type": "markdown",
   "id": "9ccd69ce",
   "metadata": {},
   "source": [
    "percent of null value"
   ]
  },
  {
   "cell_type": "code",
   "execution_count": 7,
   "id": "a91f4541",
   "metadata": {},
   "outputs": [
    {
     "name": "stdout",
     "output_type": "stream",
     "text": [
      "id          1.0\n",
      "keyword     1.0\n",
      "location    1.0\n",
      "text        1.0\n",
      "target      1.0\n",
      "dtype: float64\n"
     ]
    }
   ],
   "source": [
    "print(twiter_data.isnull().count()/len(twiter_data))\n"
   ]
  },
  {
   "cell_type": "markdown",
   "id": "ca41d621",
   "metadata": {},
   "source": [
    "# Describe Data"
   ]
  },
  {
   "cell_type": "code",
   "execution_count": 8,
   "id": "cdeb6eee",
   "metadata": {},
   "outputs": [
    {
     "data": {
      "text/html": [
       "<div>\n",
       "<style scoped>\n",
       "    .dataframe tbody tr th:only-of-type {\n",
       "        vertical-align: middle;\n",
       "    }\n",
       "\n",
       "    .dataframe tbody tr th {\n",
       "        vertical-align: top;\n",
       "    }\n",
       "\n",
       "    .dataframe thead th {\n",
       "        text-align: right;\n",
       "    }\n",
       "</style>\n",
       "<table border=\"1\" class=\"dataframe\">\n",
       "  <thead>\n",
       "    <tr style=\"text-align: right;\">\n",
       "      <th></th>\n",
       "      <th>id</th>\n",
       "      <th>target</th>\n",
       "    </tr>\n",
       "  </thead>\n",
       "  <tbody>\n",
       "    <tr>\n",
       "      <th>count</th>\n",
       "      <td>7613.000000</td>\n",
       "      <td>7613.00000</td>\n",
       "    </tr>\n",
       "    <tr>\n",
       "      <th>mean</th>\n",
       "      <td>5441.934848</td>\n",
       "      <td>0.42966</td>\n",
       "    </tr>\n",
       "    <tr>\n",
       "      <th>std</th>\n",
       "      <td>3137.116090</td>\n",
       "      <td>0.49506</td>\n",
       "    </tr>\n",
       "    <tr>\n",
       "      <th>min</th>\n",
       "      <td>1.000000</td>\n",
       "      <td>0.00000</td>\n",
       "    </tr>\n",
       "    <tr>\n",
       "      <th>25%</th>\n",
       "      <td>2734.000000</td>\n",
       "      <td>0.00000</td>\n",
       "    </tr>\n",
       "    <tr>\n",
       "      <th>50%</th>\n",
       "      <td>5408.000000</td>\n",
       "      <td>0.00000</td>\n",
       "    </tr>\n",
       "    <tr>\n",
       "      <th>75%</th>\n",
       "      <td>8146.000000</td>\n",
       "      <td>1.00000</td>\n",
       "    </tr>\n",
       "    <tr>\n",
       "      <th>max</th>\n",
       "      <td>10873.000000</td>\n",
       "      <td>1.00000</td>\n",
       "    </tr>\n",
       "  </tbody>\n",
       "</table>\n",
       "</div>"
      ],
      "text/plain": [
       "                 id      target\n",
       "count   7613.000000  7613.00000\n",
       "mean    5441.934848     0.42966\n",
       "std     3137.116090     0.49506\n",
       "min        1.000000     0.00000\n",
       "25%     2734.000000     0.00000\n",
       "50%     5408.000000     0.00000\n",
       "75%     8146.000000     1.00000\n",
       "max    10873.000000     1.00000"
      ]
     },
     "execution_count": 8,
     "metadata": {},
     "output_type": "execute_result"
    }
   ],
   "source": [
    "twiter_data.describe()"
   ]
  },
  {
   "cell_type": "code",
   "execution_count": 9,
   "id": "f749cbf7",
   "metadata": {},
   "outputs": [
    {
     "data": {
      "text/plain": [
       "0    4342\n",
       "1    3271\n",
       "Name: target, dtype: int64"
      ]
     },
     "execution_count": 9,
     "metadata": {},
     "output_type": "execute_result"
    }
   ],
   "source": [
    "twiter_data.target.value_counts()"
   ]
  },
  {
   "cell_type": "markdown",
   "id": "0489d491",
   "metadata": {},
   "source": [
    "disatster: 3271  \n",
    "non disatser:4342"
   ]
  },
  {
   "cell_type": "markdown",
   "id": "320e9caf",
   "metadata": {},
   "source": [
    "# Data Analysis"
   ]
  },
  {
   "cell_type": "markdown",
   "id": "d1dec131",
   "metadata": {},
   "source": [
    "# Top 15 location"
   ]
  },
  {
   "cell_type": "code",
   "execution_count": 10,
   "id": "f4e29d01",
   "metadata": {},
   "outputs": [
    {
     "data": {
      "text/plain": [
       "USA                104\n",
       "New York            71\n",
       "United States       50\n",
       "London              45\n",
       "Canada              29\n",
       "Nigeria             28\n",
       "UK                  27\n",
       "Los Angeles, CA     26\n",
       "India               24\n",
       "Mumbai              22\n",
       "Washington, DC      21\n",
       "Kenya               20\n",
       "Worldwide           19\n",
       "Australia           18\n",
       "Chicago, IL         18\n",
       "Name: location, dtype: int64"
      ]
     },
     "execution_count": 10,
     "metadata": {},
     "output_type": "execute_result"
    }
   ],
   "source": [
    "twiter_data.location.value_counts().nlargest(n=15)"
   ]
  },
  {
   "cell_type": "markdown",
   "id": "5664b807",
   "metadata": {},
   "source": [
    "# Top 15 Keyword"
   ]
  },
  {
   "cell_type": "code",
   "execution_count": 11,
   "id": "044b6a69",
   "metadata": {},
   "outputs": [
    {
     "data": {
      "text/plain": [
       "fatalities     45\n",
       "armageddon     42\n",
       "deluge         42\n",
       "damage         41\n",
       "sinking        41\n",
       "harm           41\n",
       "body%20bags    41\n",
       "windstorm      40\n",
       "siren          40\n",
       "collided       40\n",
       "twister        40\n",
       "outbreak       40\n",
       "evacuate       40\n",
       "fear           40\n",
       "flames         39\n",
       "Name: keyword, dtype: int64"
      ]
     },
     "execution_count": 11,
     "metadata": {},
     "output_type": "execute_result"
    }
   ],
   "source": [
    "twiter_data.keyword.value_counts().nlargest(n=15)"
   ]
  },
  {
   "cell_type": "code",
   "execution_count": 12,
   "id": "19ddcd0b",
   "metadata": {},
   "outputs": [],
   "source": [
    "disatster_tweet=[]\n",
    "non_disatster_tweet=[]\n",
    "for i in range(0,len(twiter_data.target)):\n",
    "    if twiter_data.target[i]==1:\n",
    "        disatster_tweet.append(twiter_data.location[i])\n",
    "        non_disatster_tweet.append('')\n",
    "    else:\n",
    "        non_disatster_tweet.append(twiter_data.location[i])\n",
    "        disatster_tweet.append('')\n",
    "        \n",
    "        "
   ]
  },
  {
   "cell_type": "code",
   "execution_count": 13,
   "id": "0f94256e",
   "metadata": {},
   "outputs": [],
   "source": [
    "twiter_data['Disater']=disatster_tweet"
   ]
  },
  {
   "cell_type": "code",
   "execution_count": 14,
   "id": "a00454ac",
   "metadata": {},
   "outputs": [
    {
     "data": {
      "text/plain": [
       "                 4342\n",
       "USA                67\n",
       "United States      27\n",
       "Nigeria            22\n",
       "Name: Disater, dtype: int64"
      ]
     },
     "execution_count": 14,
     "metadata": {},
     "output_type": "execute_result"
    }
   ],
   "source": [
    "twiter_data.Disater.value_counts().nlargest(4)"
   ]
  },
  {
   "cell_type": "markdown",
   "id": "a2827b22",
   "metadata": {},
   "source": [
    "usa more country have disatser tweet"
   ]
  },
  {
   "cell_type": "code",
   "execution_count": 15,
   "id": "94e6863f",
   "metadata": {},
   "outputs": [],
   "source": [
    "twiter_data['non_disaster']=non_disatster_tweet"
   ]
  },
  {
   "cell_type": "code",
   "execution_count": 16,
   "id": "89e0e4aa",
   "metadata": {},
   "outputs": [
    {
     "data": {
      "text/plain": [
       "            3271\n",
       "New York      55\n",
       "USA           37\n",
       "Name: non_disaster, dtype: int64"
      ]
     },
     "execution_count": 16,
     "metadata": {},
     "output_type": "execute_result"
    }
   ],
   "source": [
    "twiter_data.non_disaster.value_counts().nlargest(3)"
   ]
  },
  {
   "cell_type": "markdown",
   "id": "99008d31",
   "metadata": {},
   "source": [
    "USA also have more non disater tweet"
   ]
  },
  {
   "cell_type": "code",
   "execution_count": 17,
   "id": "83b8d289",
   "metadata": {},
   "outputs": [],
   "source": [
    "import re"
   ]
  },
  {
   "cell_type": "code",
   "execution_count": 18,
   "id": "e8a949c8",
   "metadata": {},
   "outputs": [],
   "source": [
    "disater_word=[]\n",
    "non_disaster_word=[]\n",
    "for i in range(0,len(twiter_data.text)):\n",
    "    if twiter_data.target[i]==1:\n",
    "        disater_word.append(twiter_data.text[i])\n",
    "    else:\n",
    "        non_disaster_word.append(twiter_data.text[i])\n",
    "        "
   ]
  },
  {
   "cell_type": "markdown",
   "id": "d1be9783",
   "metadata": {},
   "source": [
    "# clean text "
   ]
  },
  {
   "cell_type": "code",
   "execution_count": 19,
   "id": "383be268",
   "metadata": {},
   "outputs": [],
   "source": [
    "def clean_tweet(text):\n",
    "  text=re.sub(r'#[a-zA-Z0-9|_]*',' ',text) #remove hastag\n",
    "  text=re.sub(r'@[a-zA-Z0-9|_]*',' ',text) #remove user name\n",
    "  text=re.sub(r'https?:\\/\\/\\S+',' ',text)  #remove hyper link\n",
    "  text=re.sub(r'\\W',' ',text) #remove any exept char\n",
    "  text=re.sub(r'\\d',' ',text)#remove digit\n",
    "  text=re.sub(r'^\\s+',' ',text)#remove whitespace\n",
    "  text=re.sub(r's+$',' ',text)#remove space last\n",
    "  return text"
   ]
  },
  {
   "cell_type": "code",
   "execution_count": 20,
   "id": "b954ec6a",
   "metadata": {},
   "outputs": [],
   "source": [
    "clean_disatser_word=[]\n",
    "for i in range(0,len(disater_word)):\n",
    "    clean_disatser_word.append(clean_tweet(disater_word[i]))\n"
   ]
  },
  {
   "cell_type": "code",
   "execution_count": 21,
   "id": "0b217823",
   "metadata": {},
   "outputs": [],
   "source": [
    "non_clean_disatser_word=[]\n",
    "for i in range(0,len(non_disaster_word)):\n",
    "    non_clean_disatser_word.append(clean_tweet(non_disaster_word[i]))"
   ]
  },
  {
   "cell_type": "code",
   "execution_count": 22,
   "id": "e25bd84b",
   "metadata": {},
   "outputs": [
    {
     "data": {
      "text/plain": [
       "'Our Deeds are the Reason of this   May ALLAH Forgive us all'"
      ]
     },
     "execution_count": 22,
     "metadata": {},
     "output_type": "execute_result"
    }
   ],
   "source": [
    "clean_disatser_word[0]"
   ]
  },
  {
   "cell_type": "code",
   "execution_count": 23,
   "id": "587694c6",
   "metadata": {},
   "outputs": [],
   "source": [
    "from nltk.tokenize import TweetTokenizer\n",
    "from nltk import tokenize"
   ]
  },
  {
   "cell_type": "code",
   "execution_count": 24,
   "id": "334b03de",
   "metadata": {},
   "outputs": [
    {
     "data": {
      "text/plain": [
       "['Our',\n",
       " 'Deeds',\n",
       " 'are',\n",
       " 'the',\n",
       " 'Reason',\n",
       " 'of',\n",
       " 'this',\n",
       " 'May',\n",
       " 'ALLAH',\n",
       " 'Forgive',\n",
       " 'us',\n",
       " 'all']"
      ]
     },
     "execution_count": 24,
     "metadata": {},
     "output_type": "execute_result"
    }
   ],
   "source": [
    "tok=TweetTokenizer()\n",
    "split_word=tok.tokenize(clean_disatser_word[0])\n",
    "split_word"
   ]
  },
  {
   "cell_type": "code",
   "execution_count": 25,
   "id": "11394b6a",
   "metadata": {},
   "outputs": [],
   "source": [
    "split_disaster_word=[]\n",
    "for i in range(0,len(clean_disatser_word)):\n",
    "    tweet=clean_disatser_word[i].split()\n",
    "    split_disaster_word.append(tweet)"
   ]
  },
  {
   "cell_type": "code",
   "execution_count": 26,
   "id": "982676da",
   "metadata": {},
   "outputs": [],
   "source": [
    "split_non_disaster_word=[]\n",
    "for i in range(0,len(non_clean_disatser_word)):\n",
    "    tweet=non_clean_disatser_word[i].split()\n",
    "    split_non_disaster_word.append(tweet)"
   ]
  },
  {
   "cell_type": "markdown",
   "id": "9b527592",
   "metadata": {},
   "source": [
    "# most word occure in each class\n"
   ]
  },
  {
   "cell_type": "code",
   "execution_count": 30,
   "id": "d971cc20",
   "metadata": {},
   "outputs": [],
   "source": [
    "def most_frequent(List):\n",
    "    counter = 0\n",
    "    word = List[0]\n",
    "     \n",
    "    for i in List:\n",
    "        curr_frequency = List.count(i)\n",
    "        if(curr_frequency> counter):\n",
    "            counter = curr_frequency\n",
    "            word = i\n",
    " \n",
    "    return word"
   ]
  },
  {
   "cell_type": "markdown",
   "id": "e6998ad7",
   "metadata": {},
   "source": [
    "# most word in disaster class"
   ]
  },
  {
   "cell_type": "code",
   "execution_count": 49,
   "id": "84a0143d",
   "metadata": {},
   "outputs": [
    {
     "name": "stderr",
     "output_type": "stream",
     "text": [
      "[nltk_data] Downloading package stopwords to\n",
      "[nltk_data]     C:\\Users\\HP\\AppData\\Roaming\\nltk_data...\n",
      "[nltk_data]   Package stopwords is already up-to-date!\n"
     ]
    },
    {
     "data": {
      "text/plain": [
       "True"
      ]
     },
     "execution_count": 49,
     "metadata": {},
     "output_type": "execute_result"
    }
   ],
   "source": [
    "import nltk\n",
    "nltk.download('stopwords')"
   ]
  },
  {
   "cell_type": "code",
   "execution_count": 65,
   "id": "7bafeb34",
   "metadata": {},
   "outputs": [],
   "source": [
    "from nltk.corpus import stopwords\n",
    "stop_words=stopwords.words('english')"
   ]
  },
  {
   "cell_type": "code",
   "execution_count": 66,
   "id": "319ddf7a",
   "metadata": {},
   "outputs": [],
   "source": [
    "def most_word(list):\n",
    "    most_word=[]\n",
    "    for i in range(0,len(list)):\n",
    "        for v in range(0,len(list[i])):\n",
    "            if list[i][v].lower() in stop_words:\n",
    "                pass\n",
    "            else:\n",
    "                most_word.append(list[i][v])\n",
    "    return most_word"
   ]
  },
  {
   "cell_type": "code",
   "execution_count": 67,
   "id": "53a7bd79",
   "metadata": {},
   "outputs": [
    {
     "data": {
      "text/plain": [
       "['Watch',\n",
       " 'This',\n",
       " 'Airport',\n",
       " 'Get',\n",
       " 'Swallowed',\n",
       " 'Up',\n",
       " 'By',\n",
       " 'A',\n",
       " 'Sandstorm',\n",
       " 'In',\n",
       " 'Under',\n",
       " 'A',\n",
       " 'Minute']"
      ]
     },
     "execution_count": 67,
     "metadata": {},
     "output_type": "execute_result"
    }
   ],
   "source": [
    "most_disaster_word=most_word(split_disaster_word)\n",
    "most_disaster_word=most_frequent(split_disaster_word)\n",
    "most_disaster_word"
   ]
  },
  {
   "cell_type": "markdown",
   "id": "43ebf6ae",
   "metadata": {},
   "source": [
    "# most word in non_disaster class "
   ]
  },
  {
   "cell_type": "code",
   "execution_count": 68,
   "id": "f440e160",
   "metadata": {},
   "outputs": [
    {
     "data": {
      "text/plain": [
       "['Funtenna',\n",
       " 'hijacking',\n",
       " 'computers',\n",
       " 'to',\n",
       " 'send',\n",
       " 'data',\n",
       " 'as',\n",
       " 'sound',\n",
       " 'waves',\n",
       " 'Black',\n",
       " 'Hat']"
      ]
     },
     "execution_count": 68,
     "metadata": {},
     "output_type": "execute_result"
    }
   ],
   "source": [
    "most_non_disaster_word=most_frequent(split_non_disaster_word)\n",
    "most_non_disaster_word"
   ]
  },
  {
   "cell_type": "code",
   "execution_count": 69,
   "id": "931a726a",
   "metadata": {},
   "outputs": [
    {
     "data": {
      "text/plain": [
       "'near'"
      ]
     },
     "execution_count": 69,
     "metadata": {},
     "output_type": "execute_result"
    }
   ],
   "source": [
    "split_disaster_word[1][2]"
   ]
  },
  {
   "cell_type": "markdown",
   "id": "a9a87df4",
   "metadata": {},
   "source": [
    "# most commen stop word"
   ]
  },
  {
   "cell_type": "code",
   "execution_count": 70,
   "id": "15282e7d",
   "metadata": {},
   "outputs": [],
   "source": [
    "def stop_word(list):\n",
    "    stop_wordss=[]\n",
    "    for i in range(0,len(list)):\n",
    "        for v in range(0,len(list[i])):\n",
    "            \n",
    "            if list[i][v]  in stop_words:\n",
    "                stop_wordss.append(list[i][v])\n",
    "            else:\n",
    "                pass\n",
    "    return stop_wordss\n",
    "            "
   ]
  },
  {
   "cell_type": "markdown",
   "id": "4bea9de1",
   "metadata": {},
   "source": [
    "# most commen stop word in disaster class"
   ]
  },
  {
   "cell_type": "code",
   "execution_count": 71,
   "id": "e872277f",
   "metadata": {},
   "outputs": [
    {
     "data": {
      "text/plain": [
       "'the'"
      ]
     },
     "execution_count": 71,
     "metadata": {},
     "output_type": "execute_result"
    }
   ],
   "source": [
    "most_disatser_stop=stop_word(split_disaster_word)\n",
    "most_disatser_stop=most_frequent(most_disatser_stop)\n",
    "most_disatser_stop"
   ]
  },
  {
   "cell_type": "markdown",
   "id": "692eff4a",
   "metadata": {},
   "source": [
    "# most commen stop word in non_disaster class"
   ]
  },
  {
   "cell_type": "code",
   "execution_count": 72,
   "id": "cd8d5a1c",
   "metadata": {},
   "outputs": [
    {
     "data": {
      "text/plain": [
       "'the'"
      ]
     },
     "execution_count": 72,
     "metadata": {},
     "output_type": "execute_result"
    }
   ],
   "source": [
    "most_non_disaster_stop=stop_word(split_non_disaster_word)\n",
    "most_non_disaster_stop=most_frequent(most_non_disaster_stop)\n",
    "most_non_disaster_stop"
   ]
  },
  {
   "cell_type": "markdown",
   "id": "3f6e6328",
   "metadata": {},
   "source": [
    "# preprocessing "
   ]
  },
  {
   "cell_type": "code",
   "execution_count": 73,
   "id": "72500335",
   "metadata": {},
   "outputs": [],
   "source": [
    "from nltk.stem import PorterStemmer"
   ]
  },
  {
   "cell_type": "code",
   "execution_count": 74,
   "id": "9a456db5",
   "metadata": {},
   "outputs": [],
   "source": [
    "ps = PorterStemmer()"
   ]
  },
  {
   "cell_type": "code",
   "execution_count": 77,
   "id": "1cec97fe",
   "metadata": {},
   "outputs": [],
   "source": [
    "def preprocsing(list):\n",
    "    result=[]\n",
    "    for tweets in range(0,len(list)):\n",
    "        tweet=list[tweets].split()\n",
    "        tweet=[word for word in tweet  if word.lower() not in stop_words]\n",
    "        tweet=[ps.stem(word) for word in tweet]\n",
    "        result.append(tweet)\n",
    "    return result\n",
    "    \n",
    "    \n",
    "    "
   ]
  },
  {
   "cell_type": "code",
   "execution_count": 78,
   "id": "95e19475",
   "metadata": {},
   "outputs": [],
   "source": [
    "final_disaster_word=preprocsing(clean_disatser_word)\n",
    "final_non_disaster_word=preprocsing(non_clean_disatser_word)"
   ]
  },
  {
   "cell_type": "code",
   "execution_count": 80,
   "id": "d9472561",
   "metadata": {},
   "outputs": [],
   "source": [
    "twiter_data_test=pd.read_csv(r'C:\\\\Users\\HP\\Desktop\\predictiong disaster tweet\\test.csv')"
   ]
  },
  {
   "cell_type": "markdown",
   "id": "4ba357d9",
   "metadata": {},
   "source": [
    "# pad sequance"
   ]
  },
  {
   "cell_type": "code",
   "execution_count": 81,
   "id": "f975b51e",
   "metadata": {},
   "outputs": [],
   "source": [
    "from tensorflow.keras.preprocessing.text import Tokenizer\n",
    "import keras"
   ]
  },
  {
   "cell_type": "code",
   "execution_count": 349,
   "id": "c6493e64",
   "metadata": {},
   "outputs": [
    {
     "data": {
      "text/plain": [
       "'Our Deeds are the Reason of this   May ALLAH Forgive us all'"
      ]
     },
     "execution_count": 349,
     "metadata": {},
     "output_type": "execute_result"
    }
   ],
   "source": [
    "clean_disatser_word[0]"
   ]
  },
  {
   "cell_type": "markdown",
   "id": "9a917fb7",
   "metadata": {},
   "source": [
    "merge two class in one list to put in train"
   ]
  },
  {
   "cell_type": "code",
   "execution_count": 347,
   "id": "715906b7",
   "metadata": {},
   "outputs": [],
   "source": [
    "merge_list=[]\n",
    "for i in range(0,len(twiter_data.text)):\n",
    "    tweet=clean_tweet(twiter_data.text[i])\n",
    "    merge_list.append(twiter_data.text[i])\n"
   ]
  },
  {
   "cell_type": "code",
   "execution_count": 315,
   "id": "5c4e849f",
   "metadata": {},
   "outputs": [],
   "source": [
    "merge_test_list=[]\n",
    "for i in range(0,len(twiter_data_test.text)):\n",
    "    tweet=clean_tweet(twiter_data_test.text[i])\n",
    "    merge_test_list.append(tweet)\n",
    "    "
   ]
  },
  {
   "cell_type": "code",
   "execution_count": 486,
   "id": "1fd53cbd",
   "metadata": {},
   "outputs": [],
   "source": [
    "tekonizer=Tokenizer(num_words=100)\n",
    "t1=tekonizer.fit_on_texts(merge_list)\n",
    "t2=tekonizer.fit_on_texts(merge_test_list)\n",
    "sequence_train=tekonizer.texts_to_sequences(merge_list)\n",
    "sequence_test=tekonizer.texts_to_sequences(merge_test_list)"
   ]
  },
  {
   "cell_type": "code",
   "execution_count": 491,
   "id": "240ecc99",
   "metadata": {},
   "outputs": [],
   "source": [
    "sequence_train = keras.preprocessing.sequence.pad_sequences(sequence)\n",
    "sequence_test=keras.preprocessing.sequence.pad_sequences(sequence2)"
   ]
  },
  {
   "cell_type": "code",
   "execution_count": 352,
   "id": "b4be0979",
   "metadata": {},
   "outputs": [
    {
     "data": {
      "text/plain": [
       "(7613, 21)"
      ]
     },
     "execution_count": 352,
     "metadata": {},
     "output_type": "execute_result"
    }
   ],
   "source": [
    "sequence_train.shape"
   ]
  },
  {
   "cell_type": "code",
   "execution_count": 409,
   "id": "be50a403",
   "metadata": {},
   "outputs": [],
   "source": [
    "target_train=twiter_data.target.values"
   ]
  },
  {
   "cell_type": "code",
   "execution_count": 410,
   "id": "6a6a1601",
   "metadata": {},
   "outputs": [],
   "source": [
    "from sklearn.model_selection import train_test_split"
   ]
  },
  {
   "cell_type": "code",
   "execution_count": 411,
   "id": "28f825bc",
   "metadata": {},
   "outputs": [
    {
     "data": {
      "text/plain": [
       "(7613,)"
      ]
     },
     "execution_count": 411,
     "metadata": {},
     "output_type": "execute_result"
    }
   ],
   "source": [
    "target_train.shape"
   ]
  },
  {
   "cell_type": "code",
   "execution_count": 412,
   "id": "02ac41d8",
   "metadata": {},
   "outputs": [],
   "source": [
    "sequence_train1,sequence_test1,y_train,y_test=train_test_split(sequence_train,target_train,random_state=42,test_size=0.2)"
   ]
  },
  {
   "cell_type": "code",
   "execution_count": 413,
   "id": "af72e933",
   "metadata": {},
   "outputs": [
    {
     "data": {
      "text/plain": [
       "(7613, 21)"
      ]
     },
     "execution_count": 413,
     "metadata": {},
     "output_type": "execute_result"
    }
   ],
   "source": [
    "sequence_train.shape"
   ]
  },
  {
   "cell_type": "code",
   "execution_count": 414,
   "id": "1db1c4ea",
   "metadata": {},
   "outputs": [],
   "source": [
    "from keras.models import Sequential\n",
    "from keras.layers import Dense, Embedding, LSTM, Dropout"
   ]
  },
  {
   "cell_type": "markdown",
   "id": "f6e0aac8",
   "metadata": {},
   "source": [
    "# create LSTM model"
   ]
  },
  {
   "cell_type": "code",
   "execution_count": 421,
   "id": "8e9735ce",
   "metadata": {},
   "outputs": [
    {
     "name": "stdout",
     "output_type": "stream",
     "text": [
      "Model: \"sequential_41\"\n",
      "_________________________________________________________________\n",
      "Layer (type)                 Output Shape              Param #   \n",
      "=================================================================\n",
      "embedding_38 (Embedding)     (None, None, 100)         2548300   \n",
      "_________________________________________________________________\n",
      "lstm_38 (LSTM)               (None, 128)               117248    \n",
      "_________________________________________________________________\n",
      "dropout_104 (Dropout)        (None, 128)               0         \n",
      "_________________________________________________________________\n",
      "dense_104 (Dense)            (None, 64)                8256      \n",
      "_________________________________________________________________\n",
      "dropout_105 (Dropout)        (None, 64)                0         \n",
      "_________________________________________________________________\n",
      "dense_105 (Dense)            (None, 1)                 65        \n",
      "=================================================================\n",
      "Total params: 2,673,869\n",
      "Trainable params: 2,673,869\n",
      "Non-trainable params: 0\n",
      "_________________________________________________________________\n"
     ]
    }
   ],
   "source": [
    "model = Sequential()\n",
    "model.add(Embedding(len(tekonizer.word_index)+1,100))\n",
    "model.add(LSTM(128, activation = 'relu'))\n",
    "model.add(Dropout(0.2))\n",
    "\n",
    "\n",
    "model.add(Dense(64, activation = 'relu'))\n",
    "model.add(Dropout(0.2))\n",
    "\n",
    "model.add(Dense(1, activation='sigmoid'))\n",
    "\n",
    "model.summary()\n",
    "\n",
    "\n",
    "\n"
   ]
  },
  {
   "cell_type": "code",
   "execution_count": 422,
   "id": "ddf5aea9",
   "metadata": {},
   "outputs": [],
   "source": [
    "model.compile(optimizer='adam',loss='binary_crossentropy',metrics=['accuracy'])"
   ]
  },
  {
   "cell_type": "code",
   "execution_count": 437,
   "id": "d67a7958",
   "metadata": {},
   "outputs": [
    {
     "name": "stdout",
     "output_type": "stream",
     "text": [
      "Epoch 1/20\n",
      "48/48 [==============================] - 3s 65ms/step - loss: 0.1494 - accuracy: 0.9258 - val_loss: 0.3080 - val_accuracy: 0.8680\n",
      "Epoch 2/20\n",
      "48/48 [==============================] - 3s 65ms/step - loss: 0.1542 - accuracy: 0.9251 - val_loss: 0.3103 - val_accuracy: 0.8634\n",
      "Epoch 3/20\n",
      "48/48 [==============================] - 3s 66ms/step - loss: 0.2090 - accuracy: 0.9089 - val_loss: 0.4056 - val_accuracy: 0.8267\n",
      "Epoch 4/20\n",
      "48/48 [==============================] - 3s 65ms/step - loss: 0.2135 - accuracy: 0.9056 - val_loss: 0.3656 - val_accuracy: 0.8404\n",
      "Epoch 5/20\n",
      "48/48 [==============================] - 3s 65ms/step - loss: 0.1639 - accuracy: 0.9217 - val_loss: 0.3702 - val_accuracy: 0.8523\n"
     ]
    }
   ],
   "source": [
    "callback = keras.callbacks.EarlyStopping(monitor='val_accuracy', patience=4)\n",
    "history1=model.fit(sequence_train1,y_train,batch_size=128,epochs=20,validation_data=(sequence_test1,y_test),callbacks=[callback])"
   ]
  },
  {
   "cell_type": "code",
   "execution_count": 438,
   "id": "fb7bd89d",
   "metadata": {},
   "outputs": [
    {
     "name": "stdout",
     "output_type": "stream",
     "text": [
      "48/48 [==============================] - 0s 7ms/step - loss: 0.3702 - accuracy: 0.8523\n"
     ]
    }
   ],
   "source": [
    "evaluation = model.evaluate(sequence_test1, y_test)"
   ]
  },
  {
   "cell_type": "markdown",
   "id": "b3b50c06",
   "metadata": {},
   "source": [
    "# accuracy = 85.23"
   ]
  },
  {
   "cell_type": "code",
   "execution_count": 439,
   "id": "74c6ec46",
   "metadata": {},
   "outputs": [],
   "source": [
    "model.save('disaster_tweets.h5')"
   ]
  },
  {
   "cell_type": "markdown",
   "id": "19524ac2",
   "metadata": {},
   "source": [
    "# prediction"
   ]
  },
  {
   "cell_type": "code",
   "execution_count": 492,
   "id": "8ba59508",
   "metadata": {},
   "outputs": [],
   "source": [
    "predict=model.predict(sequence_test)"
   ]
  },
  {
   "cell_type": "code",
   "execution_count": 493,
   "id": "adf393b9",
   "metadata": {},
   "outputs": [],
   "source": [
    "final_predict=[]\n",
    "for i in range(0,len(predict)):\n",
    "    if predict[i] >= 0.5:\n",
    "        final_predict.append(1)\n",
    "    else:\n",
    "        final_predict.append(0)"
   ]
  },
  {
   "cell_type": "markdown",
   "id": "99f45d2d",
   "metadata": {},
   "source": [
    "# add target to test.cv data"
   ]
  },
  {
   "cell_type": "code",
   "execution_count": 494,
   "id": "27b02a5f",
   "metadata": {},
   "outputs": [],
   "source": [
    "twiter_data_test['target']=final_predict"
   ]
  },
  {
   "cell_type": "code",
   "execution_count": null,
   "id": "ea18a8a7",
   "metadata": {},
   "outputs": [],
   "source": []
  },
  {
   "cell_type": "code",
   "execution_count": null,
   "id": "a81be68f",
   "metadata": {},
   "outputs": [],
   "source": []
  },
  {
   "cell_type": "code",
   "execution_count": null,
   "id": "61d7ae79",
   "metadata": {},
   "outputs": [],
   "source": []
  },
  {
   "cell_type": "code",
   "execution_count": null,
   "id": "958aeb35",
   "metadata": {},
   "outputs": [],
   "source": []
  },
  {
   "cell_type": "code",
   "execution_count": null,
   "id": "a68ac006",
   "metadata": {},
   "outputs": [],
   "source": []
  }
 ],
 "metadata": {
  "kernelspec": {
   "display_name": "Python 3",
   "language": "python",
   "name": "python3"
  },
  "language_info": {
   "codemirror_mode": {
    "name": "ipython",
    "version": 3
   },
   "file_extension": ".py",
   "mimetype": "text/x-python",
   "name": "python",
   "nbconvert_exporter": "python",
   "pygments_lexer": "ipython3",
   "version": "3.8.8"
  }
 },
 "nbformat": 4,
 "nbformat_minor": 5
}
